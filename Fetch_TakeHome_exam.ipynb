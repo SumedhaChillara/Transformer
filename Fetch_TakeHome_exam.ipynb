{
  "nbformat": 4,
  "nbformat_minor": 0,
  "metadata": {
    "colab": {
      "provenance": []
    },
    "kernelspec": {
      "name": "python3",
      "display_name": "Python 3"
    },
    "language_info": {
      "name": "python"
    }
  },
  "cells": [
    {
      "cell_type": "markdown",
      "source": [
        "\n",
        "ML Apprenticeship Take-Home\n",
        "Sentence Transformers and Multi-Task Learning\n"
      ],
      "metadata": {
        "id": "Ockl4_T6pg1E"
      }
    },
    {
      "cell_type": "markdown",
      "source": [
        "#### Task 1: Sentence Transformer Implementation\n",
        "Implement a sentence transformer model using any deep learning framework of your choice. This model should be able to encode input sentences into fixed-length embeddings. Test your implementation with a few sample sentences and showcase the obtained embeddings.\n",
        "Describe any choices you had to make regarding the model architecture outside of the transformer backbone."
      ],
      "metadata": {
        "id": "CeO3RiHvoini"
      }
    },
    {
      "cell_type": "code",
      "source": [
        "#Import all the lobraries neeeded\n",
        "\n",
        "import numpy as np\n",
        "import pandas as pd\n",
        "import torch\n",
        "import torch.nn as nn\n",
        "from transformers import BertModel, BertTokenizer\n",
        "from transformers import DistilBertTokenizer, DistilBertModel\n",
        "\n",
        "import torch.nn.functional as F\n",
        "import torch.optim as optim\n",
        "from torch.utils.data import DataLoader, TensorDataset\n",
        "import os\n",
        "from sklearn.metrics import accuracy_score, f1_score, confusion_matrix\n",
        "from transformers import BertTokenizer\n",
        "from datasets import load_dataset\n"
      ],
      "metadata": {
        "id": "mp0dpc4eNeAE"
      },
      "execution_count": 26,
      "outputs": []
    },
    {
      "cell_type": "code",
      "source": [
        "\n",
        "'''\n",
        "Here we have chose distilbert-base-uncased as it is a smaller, faster, and lighter version of BERT.\n",
        "It retains 97% of BERT's performance while being 60% faster and 40% smaller.\n",
        "This makes it a good choice for applications where computational resources are limited.\n",
        "\n",
        "Transformers: The Hugging Face transformers library provides easy access to pre-trained transformer models like BERT,\n",
        "including tokenizers and model classes.\n",
        "\n",
        "embedding_dim=768: The dimension of the output sentence embeddings. By default, it is set to 768, matching BERT's hidden size.\n",
        "Here the output of our model has the embeddings for each token in the sequence have a fixed length.\n",
        "The forward method processes the input through DistilBERT and then through the projection layer to get the sentence embeddings.\n",
        "The sentence embeddings are then returned.\n",
        "\n",
        "A linear layer is added after DistilBERT to allow for dimension reduction or transformation of the embeddings.\n",
        "Here our projection layer keeps the dimension same as the output dimension of DistilBERT (768).\n",
        "\n",
        "[CLS] pool startegy is a common used pooling texhnique: token's embedding from the last hidden state to represent the sentence embedding is used here\n",
        "\n",
        "'''\n",
        "\n",
        "class SentenceTransformer(nn.Module):\n",
        "    def __init__(self, model_name=\"distilbert-base-uncased\", embedding_dim=768):\n",
        "        super(SentenceTransformer, self).__init__()\n",
        "        self.bert = DistilBertModel.from_pretrained(model_name)\n",
        "        self.projection = nn.Linear(self.bert.config.hidden_size, embedding_dim)\n",
        "\n",
        "    def forward(self, input_ids, attention_mask):\n",
        "        outputs = self.bert(input_ids=input_ids, attention_mask=attention_mask)\n",
        "        last_hidden_state = outputs.last_hidden_state\n",
        "        sentence_embeddings = self.projection(last_hidden_state[:, 0, :]) #pooling startegy\n",
        "        return sentence_embeddings\n",
        "\n",
        "# Example usage for better undertsanding on the sentnces are converted into word embeddings\n",
        "tokenizer = DistilBertTokenizer.from_pretrained(\"distilbert-base-uncased\")\n",
        "model = SentenceTransformer()\n",
        "\n",
        "sentences = [\"Hi\", \"How are you\",\"This is a sample\", \"This is a sentence.\",\"This is to check\"]\n",
        "encoded_input = tokenizer(sentences, padding= True, truncation=True, return_tensors='pt')\n",
        "embeddings = model(encoded_input['input_ids'], encoded_input['attention_mask'])\n",
        "\n",
        "print(embeddings.shape)\n",
        "print(embeddings)\n",
        "\n"
      ],
      "metadata": {
        "colab": {
          "base_uri": "https://localhost:8080/"
        },
        "id": "g9U6WHisohcE",
        "outputId": "4b626ae6-89e2-4d4e-8367-bd42487bb078"
      },
      "execution_count": 27,
      "outputs": [
        {
          "output_type": "stream",
          "name": "stdout",
          "text": [
            "torch.Size([5, 768])\n",
            "tensor([[-0.0992,  0.5831,  0.2383,  ...,  0.0702,  0.0611,  0.0679],\n",
            "        [-0.1668,  0.5245,  0.3737,  ...,  0.0159, -0.0261,  0.0620],\n",
            "        [-0.1075,  0.5769,  0.2630,  ..., -0.0784,  0.0303,  0.1201],\n",
            "        [-0.0251,  0.5881,  0.2733,  ..., -0.0503,  0.0371,  0.0736],\n",
            "        [-0.0730,  0.5766,  0.2521,  ..., -0.0258,  0.0538,  0.0762]],\n",
            "       grad_fn=<AddmmBackward0>)\n"
          ]
        }
      ]
    },
    {
      "cell_type": "code",
      "source": [
        "# Task 2: Multi-Task Learning Expansion\n",
        "'''\n",
        "The primary modification we followed here is  adding separate task-specific heads to handle different tasks,\n",
        "such as Task_a: sentence classification and  Task_b sentiment analysis\n",
        "Two separate linear layers are added after the projection layer. These heads are responsible for producing task-specific outputs.\n",
        "\n",
        "The forward method  accepts an  argument, task, which specifies which task's head should be used to produce the final output.\n",
        "Depending on the value of task, the model routes the sentence embeddings through the appropriate task head.\n",
        "\n",
        "Here we have used the sam eabove cell task1 implementation but slighlt modified the approach for multi-task learning'''\n",
        "from transformers import DistilBertModel, DistilBertTokenizer\n",
        "\n",
        "class MultiTaskSentenceTransformer(nn.Module):\n",
        "    def __init__(self, model_name=\"distilbert-base-uncased\", embedding_dim=768, num_classes_task_a=5, num_classes_task_b=3):\n",
        "        super(MultiTaskSentenceTransformer, self).__init__()\n",
        "        self.bert = DistilBertModel.from_pretrained(model_name)\n",
        "        self.projection = nn.Linear(self.bert.config.hidden_size, embedding_dim) # A linear layer to project the BERT output to a fixed embedding dimension\n",
        "        self.task_a_head = nn.Linear(embedding_dim, num_classes_task_a)  # Sentence Classification\n",
        "        self.task_b_head = nn.Linear(embedding_dim, num_classes_task_b)  # Sentiment Analysis\n",
        "\n",
        "    def forward(self, input_ids, attention_mask, task):\n",
        "        outputs = self.bert(input_ids=input_ids, attention_mask=attention_mask) #Get the outputs from the BERT model.\n",
        "        last_hidden_state = outputs.last_hidden_state #Extract the last hidden state from the outputs.\n",
        "        sentence_embeddings = self.projection(last_hidden_state[:, 0, :])#Use the first token embedding from the last hidden state and project it to the desired embedding dimension\n",
        "\n",
        "        if task == \"task_a\":\n",
        "            logits = self.task_a_head(sentence_embeddings)\n",
        "        elif task == \"task_b\":\n",
        "            logits = self.task_b_head(sentence_embeddings)\n",
        "        else:\n",
        "            raise ValueError(\"Invalid task specified.\")\n",
        "\n",
        "        return logits\n",
        "\n",
        "\n",
        "# Example usage\n",
        "tokenizer = DistilBertTokenizer.from_pretrained(\"distilbert-base-uncased\")\n",
        "model = MultiTaskSentenceTransformer() #used default classes size for convenience and easeness uses 5 classes for task1, and 3 classes for task2\n",
        "\n",
        "# Sample sentences\n",
        "sentences = [\"Hi\", \"How are you\",\"This is a sample\", \"This is a sentence.\",\"This is to check\"]\n",
        "\n",
        "# Tokenize input\n",
        "encoded_input = tokenizer(sentences, padding=True, truncation=True, return_tensors='pt')\n",
        "\n",
        "# Forward pass for Task A (Sentence Classification)\n",
        "logits_task_a = model(encoded_input['input_ids'], encoded_input['attention_mask'], task=\"task_a\")\n",
        "print(\"Logits for Task A:\", logits_task_a)\n",
        "\n",
        "# Forward pass for Task B (Sentiment Analysis)\n",
        "logits_task_b = model(encoded_input['input_ids'], encoded_input['attention_mask'], task=\"task_b\")\n",
        "print(\"Logits for Task B:\", logits_task_b)"
      ],
      "metadata": {
        "colab": {
          "base_uri": "https://localhost:8080/"
        },
        "id": "PG6v54q2yjf_",
        "outputId": "a96ff548-c70b-41f6-f8d4-bb21f3682bbe"
      },
      "execution_count": 28,
      "outputs": [
        {
          "output_type": "stream",
          "name": "stdout",
          "text": [
            "Logits for Task A: tensor([[-0.1810, -0.0567, -0.0717,  0.1778,  0.0090],\n",
            "        [-0.1964, -0.0556, -0.0214,  0.2183,  0.0572],\n",
            "        [-0.1689, -0.0339, -0.0520,  0.2031,  0.0484],\n",
            "        [-0.1649, -0.0683, -0.0442,  0.2533,  0.0707],\n",
            "        [-0.1233, -0.0086, -0.0539,  0.2406,  0.0861]],\n",
            "       grad_fn=<AddmmBackward0>)\n",
            "Logits for Task B: tensor([[-0.0492,  0.1269,  0.0531],\n",
            "        [-0.0455,  0.1618, -0.0046],\n",
            "        [-0.0605,  0.1634, -0.0419],\n",
            "        [-0.0185,  0.1620, -0.0037],\n",
            "        [-0.0525,  0.1719,  0.0045]], grad_fn=<AddmmBackward0>)\n"
          ]
        }
      ]
    },
    {
      "cell_type": "markdown",
      "source": [],
      "metadata": {
        "id": "ETWYlLIjFuUV"
      }
    },
    {
      "cell_type": "markdown",
      "source": [
        "#Task 3: Training Considerations\n",
        "\n",
        "\n",
        "---\n",
        "\n",
        "\n",
        "If the entire network should be frozen:\n",
        "\n",
        "1. Freezing the entire network means that no parameters will be updated during training, effectively turning the model into a fixed feature extractor.\n",
        "\n",
        "Advantages: Computational efficiency, as no gradients need to be computed for the frozen layers.\n",
        "Disadvantages: The model cannot adapt to the specific tasks or domains, and its performance will be limited by the pre-trained representations.\n",
        "\n",
        "My approach :Freezing the entire network is generally not recommended for multi-task learning scenarios, as it defeats the purpose of fine-tuning\n",
        "the model on the specific tasks.\n",
        "It should only be considered if the pre-trained representations are already highly optimized for the target tasks, which is rarely the case.\n",
        "\n",
        "\n",
        "\n",
        "---\n",
        "\n",
        "\n",
        "2. If only the transformer backbone should be frozen:\n",
        "\n",
        "In this scenario, the transformer backbone (e.g., BERT) is frozen, while the task-specific heads and the projection layer are allowed to be trained.\n",
        "\n",
        "Advantages: Computational efficiency, as the transformer backbone typically has a large number of parameters; leverages the pre-trained language representations while adapting the task-specific components.\n",
        "\n",
        "Disadvantages: Limited ability to adapt the language representations to the specific tasks or domains.\n",
        "\n",
        "My approach:\n",
        "Freezing the transformer backbone is a common practice in transfer learning for NLP tasks. It allows the model to leverage the general language representations learned during pre-training while fine-tuning the task-specific components. This approach strikes a balance between computational efficiency and task-specific adaptation.\n",
        "\n",
        "\n",
        "\n",
        "---\n",
        "\n",
        "\n",
        "3. If only one of the task-specific heads (either for Task A or Task B) should be frozen:\n",
        "\n",
        "In this scenario, one of the task-specific heads is frozen, while the other head, the transformer backbone,\n",
        "and the projection layer are allowed to be trained.\n",
        "\n",
        "Advantages: Allows for knowledge transfer from the frozen task-specific head to the other components of the model, potentially improving performance on the new task.\n",
        "Disadvantages: Limited ability for the model to fully adapt to the new task, as the frozen task-specific head is not updated during training.\n",
        "Approach:\n",
        "Freezing one of the task-specific heads can be useful in scenarios where you want to transfer knowledge from a well-performing model for one task to improve performance on another task.\n",
        "For example, if you have a highly accurate model for Task A,\n",
        "you could freeze the Task A head and fine-tune the rest of the model on Task B, leveraging the knowledge from Task A."
      ],
      "metadata": {
        "id": "cW4rFGfCdMFm"
      }
    },
    {
      "cell_type": "markdown",
      "source": [
        "Transfer Learning Scenario:\n",
        "\n",
        "\n",
        "---\n",
        "\n",
        "\n",
        "\n",
        "Choice of a pre-trained model:\n",
        "\n",
        "For transfer learning in NLP tasks, it is recommended to choose a pre-trained model that has been trained on a large corpus of data relevant to the target tasks.\n",
        "Popular choices include BERT, RoBERTa, XLNet, and GPT models, which have been pre-trained on large datasets like Wikipedia, BookCorpus, and web crawl data.\n",
        "\n",
        "The choice of the pre-trained model can significantly impact the performance of the downstream tasks, as the model's initial representations can influence the fine-tuning process.\n",
        "\n",
        "\n",
        "\n",
        "\n",
        "\n",
        "\n",
        "---\n",
        "\n",
        "\n",
        "Layers to freeze/unfreeze:\n",
        "\n",
        "A common approach is to freeze the transformer backbone (e.g., BERT) and fine-tune the task-specific heads and the projection layer.\n",
        "Alternatively, you could unfreeze a few layers of the transformer backbone and fine-tune them along with the task-specific heads.\n",
        "\n",
        "This can be beneficial if the target tasks are significantly different from the pre-training data domain.\n",
        "\n",
        "\n",
        "---\n",
        "\n",
        "\n",
        "\n",
        "My approach:\n",
        "\n",
        "1. Freezing the transformer backbone reduces the number of trainable parameters, making the fine-tuning process more computationally efficient and less prone to overfitting, especially when dealing with limited task-specific data.\n",
        "\n",
        "2. Fine-tuning the task-specific heads and the projection layer allows the model to adapt to the specific tasks and learn task-relevant representations.\n",
        "\n",
        "3. Unfreezing a few layers of the transformer backbone can help the model adapt its language representations to the specific tasks or domains, potentially improving performance if the target tasks are significantly different from the pre-training data.\n",
        "\n",
        "\n",
        "\n",
        "---\n",
        "\n",
        "\n",
        "\n",
        "In summary, the choice of freezing or fine-tuning different components of the model depends on the specific requirements, computational resources, and the similarity between the pre-training data and the target tasks.\n",
        "\n",
        "A common approach is to freeze the transformer backbone and fine-tune the task-specific heads and the projection layer, while unfreezing a few layers of the backbone can be considered if the target tasks are significantly different from the pre-training data."
      ],
      "metadata": {
        "id": "jtY66rqGd9h7"
      }
    },
    {
      "cell_type": "code",
      "source": [
        "#Task 4: Layer-wise Learning Rate Implementation (BONUS)\n",
        "\n",
        "'''\n",
        "Lower learning rates are typically set for the lower layers of the network because they often capture more general features and require more stable updates.\n",
        "Slightly higher learning rates can be set for the middle layers (e.g., projection layer) to ensure faster adaptation to task-specific features.\n",
        "Higher learning rates are set for the task-specific heads (e.g., task_a_head and task_b_head) to facilitate faster convergence on the specific task\n",
        "\n",
        "Advantages  of using layer wise learning rates:\n",
        "Improved stability and faster convergence.\n",
        "Different layers of a neural network may learn at different rates or require different magnitudes of updates to their parameters.\n",
        "Layer-wise learning rates allow us to adjust the learning rates for each layer individually, providing finer control over the learning process.\n",
        "This can help accelerate convergence and improve overall training performance.\n",
        "Applying different learning rates to different layers can act as a form of regularization to prevent overfitting.\n",
        "\n",
        "\n",
        "'''\n",
        "\n",
        "model = MultiTaskSentenceTransformer()\n",
        "\n",
        "# Define different learning rates for different layers\n",
        "learning_rates = [\n",
        "    {\"params\": model.bert.parameters(), \"lr\": 1e-5},        # Lower learning rate for BERT layers\n",
        "    {\"params\": model.projection.parameters(), \"lr\": 1e-4},  # Slightly higher learning rate for projection layer\n",
        "    {\"params\": model.task_a_head.parameters(), \"lr\": 1e-3},  # Higher learning rate for task A head\n",
        "    {\"params\": model.task_b_head.parameters(), \"lr\": 1e-3}   # Higher learning rate for task B head\n",
        "]\n",
        "\n",
        "# optimizer with different learning rates for different layers\n",
        "optimizer = optim.Adam(learning_rates)\n"
      ],
      "metadata": {
        "id": "GmP8jb3reKCU"
      },
      "execution_count": 29,
      "outputs": []
    },
    {
      "cell_type": "code",
      "source": [],
      "metadata": {
        "id": "D8_z8MkZvyDX"
      },
      "execution_count": 29,
      "outputs": []
    }
  ]
}